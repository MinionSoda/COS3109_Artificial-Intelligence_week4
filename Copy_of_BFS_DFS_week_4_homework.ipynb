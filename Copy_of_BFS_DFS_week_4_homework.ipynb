{
  "nbformat": 4,
  "nbformat_minor": 0,
  "metadata": {
    "colab": {
      "name": "Copy of BFS_DFS week 4 homework.ipynb",
      "provenance": [],
      "collapsed_sections": [],
      "include_colab_link": true
    },
    "kernelspec": {
      "name": "python3",
      "display_name": "Python 3"
    },
    "language_info": {
      "name": "python"
    }
  },
  "cells": [
    {
      "cell_type": "markdown",
      "metadata": {
        "id": "view-in-github",
        "colab_type": "text"
      },
      "source": [
        "<a href=\"https://colab.research.google.com/github/MinionSoda/COS3109_Artificial-Intelligence_week4/blob/main/Copy_of_BFS_DFS_week_4_homework.ipynb\" target=\"_parent\"><img src=\"https://colab.research.google.com/assets/colab-badge.svg\" alt=\"Open In Colab\"/></a>"
      ]
    },
    {
      "cell_type": "markdown",
      "source": [
        "https://favtutor.com/blogs/breadth-first-search-python#:~:text=Breadth%2DFirst%20Search%20is%20a,graph%20is%20almost%20the%20same."
      ],
      "metadata": {
        "id": "Nu04wLWEISO7"
      }
    },
    {
      "cell_type": "code",
      "execution_count": 18,
      "metadata": {
        "colab": {
          "base_uri": "https://localhost:8080/"
        },
        "id": "Lo-dthaVIOii",
        "outputId": "771e8c93-6ae0-4115-9ca0-50dd0c85c160"
      },
      "outputs": [
        {
          "output_type": "stream",
          "name": "stdout",
          "text": [
            "Following is the Breadth-First Search\n",
            "Frankfurt Manheim Wurzburg Kassel Karlsruhe Erfurt Numberg Munchen Augsburg Stuttgart "
          ]
        }
      ],
      "source": [
        "graph = {\n",
        "  'Frankfurt' : ['Manheim','Wurzburg' , 'Kassel'],\n",
        "  \n",
        "  'Manheim' : ['Karlsruhe'],\n",
        "  'Wurzburg' : ['Erfurt' , 'Numberg'],\n",
        "  'Kassel' : ['Munchen'],\n",
        "\n",
        "  'Karlsruhe' : ['Augsburg'],\n",
        "  'Erfurt' : [],\n",
        "  'Numberg' : ['Munchen' , 'Stuttgart'],\n",
        "  'Munchen' : [],\n",
        "\n",
        "  'Augsburg' : ['Munchen'],\n",
        "  'Munchen' : [],\n",
        "  'Stuttgart' : [],\n",
        "\n",
        "  'Munchen' : [],\n",
        "\n",
        "\n",
        "\n",
        "\n",
        "  \n",
        "  \n",
        "  \n",
        "}\n",
        "\n",
        "visited = [] # List for visited nodes.\n",
        "queue = []     #Initialize a queue\n",
        "\n",
        "def bfs(visited, graph, node): #function for BFS\n",
        "  visited.append(node)\n",
        "  queue.append(node)\n",
        "\n",
        "  while queue:          # Creating loop to visit each node\n",
        "    m = queue.pop(0) \n",
        "    print (m, end = \" \") \n",
        "\n",
        "    for neighbour in graph[m]:\n",
        "      if neighbour not in visited:\n",
        "        visited.append(neighbour)\n",
        "        queue.append(neighbour)\n",
        "\n",
        "# Driver Code\n",
        "print(\"Following is the Breadth-First Search\")\n",
        "bfs(visited, graph, 'Frankfurt')    # function calling"
      ]
    },
    {
      "cell_type": "markdown",
      "source": [
        "https://favtutor.com/blogs/depth-first-search-python"
      ],
      "metadata": {
        "id": "eq-ZhdiLIlsb"
      }
    },
    {
      "cell_type": "code",
      "source": [
        "# Using a Python dictionary to act as an adjacency list\n",
        "graph = {\n",
        "  'Frankfurt' : ['Manheim','Wurzburg' , 'Kassel'],\n",
        "  \n",
        "  'Manheim' : ['Karlsruhe'],\n",
        "  'Wurzburg' : ['Erfurt' , 'Numberg'],\n",
        "  'Kassel' : ['Munchen'],\n",
        "\n",
        "  'Karlsruhe' : ['Augsburg'],\n",
        "  'Erfurt' : [],\n",
        "  'Numberg' : ['Munchen' , 'Stuttgart'],\n",
        "  'Munchen' : [],\n",
        "\n",
        "  'Augsburg' : ['Munchen'],\n",
        "  'Munchen' : [],\n",
        "  'Stuttgart' : [],\n",
        "\n",
        "  'Munchen' : [],\n",
        "}\n",
        "\n",
        "visited = set() # Set to keep track of visited nodes of graph.\n",
        "\n",
        "def dfs(visited, graph, node):  #function for dfs \n",
        "    if node not in visited:\n",
        "        print (node)\n",
        "        visited.add(node)\n",
        "        for neighbour in graph[node]:\n",
        "            dfs(visited, graph, neighbour)\n",
        "\n",
        "# Driver Code\n",
        "print(\"Following is the Depth-First Search\")\n",
        "dfs(visited, graph, 'Frankfurt')"
      ],
      "metadata": {
        "id": "zHFi3Z2DIocr",
        "colab": {
          "base_uri": "https://localhost:8080/"
        },
        "outputId": "a90c4b15-6ca1-4d14-de14-da223c17e9ef"
      },
      "execution_count": 19,
      "outputs": [
        {
          "output_type": "stream",
          "name": "stdout",
          "text": [
            "Following is the Depth-First Search\n",
            "Frankfurt\n",
            "Manheim\n",
            "Karlsruhe\n",
            "Augsburg\n",
            "Munchen\n",
            "Wurzburg\n",
            "Erfurt\n",
            "Numberg\n",
            "Stuttgart\n",
            "Kassel\n"
          ]
        }
      ]
    }
  ]
}